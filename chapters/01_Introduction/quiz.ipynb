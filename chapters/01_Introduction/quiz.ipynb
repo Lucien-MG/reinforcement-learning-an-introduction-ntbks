{
 "cells": [
  {
   "cell_type": "markdown",
   "metadata": {},
   "source": [
    "# Quiz\n",
    "\n",
    "1. What is the primary goal of an agent in a Reinforcement Learning setting?\n",
    "    > To learn a policy that maximizes cumulative reward over time by interacting with its environment\n",
    "\n",
    "1. What is the \"exploration-exploitation dilemma\" in the context of Reinforcement Learning ?\n",
    "    > TODO\n",
    "\n",
    "1. How does an agent learn in a Reinforcement Learning setting ?\n",
    "    > TODO\n",
    "\n",
    "1. How does Reinforcement Learning differ from supervised learning and unsupervised learning ?\n",
    "    > TODO\n",
    "\n",
    "1. What is the concept of \"delayed rewards\" in Reinforcement Learning and why it poses a challenge for learning ?\n",
    "    > TODO\n",
    "\n",
    "1. Briefly explain the difference between model-based and model-free Reinforcement Learning methods.\n",
    "    > TODO"
   ]
  }
 ],
 "metadata": {
  "language_info": {
   "name": "python"
  }
 },
 "nbformat": 4,
 "nbformat_minor": 2
}

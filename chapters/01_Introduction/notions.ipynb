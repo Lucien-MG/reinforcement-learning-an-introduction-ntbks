{
 "cells": [
  {
   "cell_type": "markdown",
   "metadata": {},
   "source": [
    "# Reinforcement learning\n",
    "\n",
    "**Reinforcement learning** is learning what to do (how to map situations to actions) so\n",
    "as to maximize a numerical reward signal.\n",
    "\n",
    "The learner is not told which actions to take, but instead must discover which actions yield the most reward by trying them.\n",
    "In the most interesting and challenging cases, actions may affect not only the immediate\n",
    "reward but also the next situation and, through that, all subsequent rewards.\n",
    "\n",
    "The two characteristics:\n",
    "- trial-and-error search\n",
    "- delayed reward\n",
    "are the two most important distinguishing features of reinforcement learning.\n",
    "\n",
    "**Reinforcement learning** (like many topics whose names end with “ing,”) is simultaneously:\n",
    "- a problem\n",
    "- a class of solution methods that work well on the problem\n",
    "- the field that studies this problem\n",
    "- its solution methods\n",
    "\n",
    "It is convenient to use a single name for all three things, but at the same time\n",
    "essential to keep the three conceptually separate. In particular, the distinction between\n",
    "problems and solution methods is very important in reinforcement learning; failing to\n",
    "make this distinction is the source of many confusions.\n",
    "\n",
    "**Reinforcement learning** is different from **supervised learning**, the kind of learning studied\n",
    "in most current research in the field of machine learning. Supervised learning is learning\n",
    "from a training set of labeled examples provided by a knowledgable external supervisor\n",
    "\n",
    "**Reinforcement learning** is also different from what machine learning researchers call\n",
    "**unsupervised learning**, which is typically about finding structure hidden in collections of\n",
    "unlabeled data.\n",
    "\n",
    "One of the challenges that arise in reinforcement learning, and not in other kinds\n",
    "of learning, is the **trade-off between exploration and exploitation**."
   ]
  }
 ],
 "metadata": {
  "language_info": {
   "name": "python"
  }
 },
 "nbformat": 4,
 "nbformat_minor": 2
}

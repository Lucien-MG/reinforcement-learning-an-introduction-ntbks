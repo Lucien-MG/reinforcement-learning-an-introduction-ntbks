{
 "cells": [
  {
   "cell_type": "markdown",
   "metadata": {},
   "source": [
    "# Quiz\n",
    "\n",
    "1. What feature is distinguishing reinforcement learning from other types of learning ?\n",
    "    > it uses training information that evaluates the actions taken rather  \n",
    "      than instructs by giving correct actions.\n",
    "\n",
    "1. What is evaluative feedback ?\n",
    "    > Evaluative feedback indicates how good the action taken was, but not whether it was the best or the worst action possible.."
   ]
  }
 ],
 "metadata": {
  "language_info": {
   "name": "python"
  }
 },
 "nbformat": 4,
 "nbformat_minor": 2
}

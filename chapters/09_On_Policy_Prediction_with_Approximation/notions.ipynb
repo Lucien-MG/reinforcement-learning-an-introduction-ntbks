{
 "cells": [
  {
   "cell_type": "markdown",
   "metadata": {},
   "source": [
    "# On-policy Prediction with Approximation\n",
    "\n",
    "The novelty in this chapter is that the approximate value function is represented not as a table  \n",
    "but as a parameterized functional form with weight vector $w \\in R^d$.  \n",
    "We will write $v̂(s,w) \\approx v_\\pi(s)$ for the approximate value of state s given weight vector w.\n",
    "\n",
    "Changing one weight changes the estimated value of many states.  \n",
    "Consequently, when a single state is updated, the change generalizes from that state to affect the values of many other states.  \n",
    "Such **generalization** makes the learning potentially more powerful but also potentially more difficult to manage and understand.\n",
    "\n",
    "Extending reinforcement learning to function approximation also makes it applicable to partially observable problems,\n",
    "in which the full state is not available to the agent."
   ]
  },
  {
   "cell_type": "markdown",
   "metadata": {},
   "source": [
    "## Value Function Approximation"
   ]
  },
  {
   "cell_type": "markdown",
   "metadata": {},
   "source": [
    "## The Prediction Objective (VE)"
   ]
  },
  {
   "cell_type": "markdown",
   "metadata": {},
   "source": [
    "## Stochastic-gradient and Semi-gradient Methods"
   ]
  },
  {
   "cell_type": "code",
   "execution_count": null,
   "metadata": {},
   "outputs": [],
   "source": [
    "import collections\n",
    "\n",
    "class GradientMonteCarloEstimateV():\n",
    "\n",
    "    def __init__(self, gamma, alpha, policy):\n",
    "        self.gamma = gamma\n",
    "        self.alpha = alpha\n",
    "\n",
    "        self.policy = policy\n",
    "\n",
    "        self.state_value = np.ones((1, 10))\n",
    "\n",
    "        self.states = []\n",
    "        self.rewards = []\n",
    "\n",
    "    def action(self, state):\n",
    "        return self.policy(state)\n",
    "    \n",
    "    def observe(self, state, action, reward):\n",
    "        self.states.append(state)\n",
    "        self.rewards.append(reward)\n",
    "    \n",
    "    def optimize(self):\n",
    "        g = 0\n",
    "\n",
    "        for t in reversed(range(len(self.states))):\n",
    "            g = self.gamma * g + self.rewards[t]\n",
    "\n",
    "            self.state_value[self.states[t]] += (1 / self.returns[self.states[t]]) * (g - self.state_value[self.states[t]])\n",
    "        \n",
    "        self.states = []\n",
    "        self.rewards = []"
   ]
  },
  {
   "cell_type": "code",
   "execution_count": 102,
   "metadata": {},
   "outputs": [],
   "source": [
    "# Windy Gridworld Env\n",
    "from enum import Enum\n",
    "\n",
    "import numpy as np\n",
    "\n",
    "import gymnasium as gym\n",
    "from gymnasium import spaces\n",
    "\n",
    "class Actions(Enum):\n",
    "    RIGHT = 0\n",
    "    UP = 1\n",
    "    LEFT = 2\n",
    "    DOWN = 3\n",
    "\n",
    "class DynaMaze(gym.Env):\n",
    "    metadata = { \"render_modes\": [\"ascii\"] }\n",
    "\n",
    "    def __init__(self, render_mode=None, grid_shape=(6, 9)):\n",
    "        self._grid_shape = grid_shape\n",
    "\n",
    "        # Observations are dictionaries with the agent's and the target's location.\n",
    "        # Each location is encoded as an element of {0, ..., `size`}^2, i.e. MultiDiscrete([size, size]).\n",
    "        self.observation_space = spaces.Dict(\n",
    "            {\n",
    "                \"agent\": spaces.Box(0, self._grid_shape[0] - 1, shape=(2,), dtype=int),\n",
    "                \"target\": spaces.Box(0, self._grid_shape[0] - 1, shape=(2,), dtype=int),\n",
    "            }\n",
    "        )\n",
    "\n",
    "        self._agent_location = np.array([2, 0], dtype=int)\n",
    "        self._target_location = np.array([0, 8], dtype=int)\n",
    "\n",
    "        self._walls_locations = np.array([[1, 2], [2, 2], [3, 2], [4, 5], [0, 7], [1, 7], [2, 7]], dtype=int)\n",
    "\n",
    "        # We have 4 actions, corresponding to \"right\", \"up\", \"left\", \"down\"\n",
    "        # if king's moves are activated then we add the diagonales, so 4 more moves\n",
    "        self.action_space = spaces.Discrete(4)\n",
    "\n",
    "        \"\"\"\n",
    "        The following dictionary maps abstract actions from `self.action_space` to\n",
    "        the direction we will walk in if that action is taken.\n",
    "        i.e. 0 corresponds to \"right\", 1 to \"up\" etc.\n",
    "        \"\"\"\n",
    "        self._action_to_direction = {\n",
    "            Actions.UP.value: np.array([-1, 0]),\n",
    "            Actions.DOWN.value: np.array([1, 0]),\n",
    "            Actions.LEFT.value: np.array([0, -1]),\n",
    "            Actions.RIGHT.value: np.array([0, 1]),\n",
    "        }\n",
    "\n",
    "        assert render_mode is None or render_mode in self.metadata[\"render_modes\"]\n",
    "        self.render_mode = render_mode\n",
    "    \n",
    "    def _get_obs(self):\n",
    "        return str(self._agent_location)\n",
    "    \n",
    "    def _get_info(self):\n",
    "        return {\n",
    "            \"distance\": np.linalg.norm(\n",
    "            self._agent_location - self._target_location, ord=1\n",
    "            )\n",
    "        }\n",
    "    \n",
    "    def _render_frame(self):\n",
    "        if self.render_mode == \"ascii\":\n",
    "            grid = np.zeros((6, 9))\n",
    "            grid[self._agent_location[0], self._agent_location[1]] = 1\n",
    "            grid[self._target_location[0], self._target_location[1]] = 6\n",
    "            print(grid, flush=True)\n",
    "\n",
    "    def step(self, action):\n",
    "        # Map the action (element of {0,1,2,3}) to the direction we walk in\n",
    "        direction = self._action_to_direction[action]\n",
    "        target_location = np.array([self._agent_location[0] + direction[0], self._agent_location[1] + direction[1]])\n",
    "\n",
    "\n",
    "        if np.any(np.all(target_location == self._walls_locations, axis=1)):\n",
    "            self._agent_location = self._agent_location\n",
    "        else:\n",
    "            # We use `np.clip` to make sure we don't leave the grid\n",
    "            self._agent_location[0] = np.clip(\n",
    "                self._agent_location[0] + direction[0], 0, self._grid_shape[0] - 1\n",
    "            )\n",
    "\n",
    "            self._agent_location[1] = np.clip(\n",
    "                self._agent_location[1] + direction[1], 0, self._grid_shape[1] - 1\n",
    "            )\n",
    "\n",
    "        # An episode is done iff the agent has reached the target\n",
    "        terminated = np.all(self._agent_location == self._target_location)\n",
    "        reward = 0 if terminated else -1\n",
    "        observation = self._get_obs()\n",
    "        info = self._get_info()\n",
    "\n",
    "        self._render_frame()\n",
    "\n",
    "        return observation, reward, terminated, False, info\n",
    "    \n",
    "    def reset(self, seed=None, options=None):\n",
    "        # We need the following line to seed self.np_random\n",
    "        super().reset(seed=seed)\n",
    "\n",
    "        # reset agent's position\n",
    "        self._agent_location = np.array([2, 0], dtype=int)\n",
    "\n",
    "        observation = self._get_obs()\n",
    "        info = self._get_info()\n",
    "\n",
    "        self._render_frame()\n",
    "\n",
    "        return observation, info"
   ]
  },
  {
   "cell_type": "code",
   "execution_count": 103,
   "metadata": {},
   "outputs": [],
   "source": [
    "def argmax(array):\n",
    "    return np.random.choice(np.where(array == np.max(array))[0])\n",
    "\n",
    "def get_epsilon_greedy_policy(epsilon=0.1):\n",
    "    def epsilon_greedy_policy(state_action_value, state):\n",
    "        take_random_action_prob = np.random.uniform(0, 1)\n",
    "\n",
    "        if take_random_action_prob < epsilon:\n",
    "            random_action = np.random.randint(0, len(state_action_value[state]))\n",
    "            return random_action\n",
    "        else:\n",
    "            greedy_action = argmax(state_action_value[state])\n",
    "            return greedy_action\n",
    "    \n",
    "    return epsilon_greedy_policy"
   ]
  },
  {
   "cell_type": "code",
   "execution_count": 104,
   "metadata": {},
   "outputs": [],
   "source": [
    "def play_env(env, agent):\n",
    "    reward_sum = 0\n",
    "    nb_steps = 0\n",
    "\n",
    "    terminated = False\n",
    "    observation, info = env.reset()\n",
    "\n",
    "    while not terminated:\n",
    "        action = agent.action(observation)\n",
    "\n",
    "        new_observation, reward, terminated, truncated, info = env.step(action)\n",
    "\n",
    "        agent.observe(observation, action, reward, new_observation)\n",
    "\n",
    "        observation = new_observation\n",
    "\n",
    "        reward_sum += reward\n",
    "        nb_steps += 1\n",
    "    \n",
    "    agent.optimize()\n",
    "\n",
    "    return reward_sum, nb_steps"
   ]
  },
  {
   "cell_type": "code",
   "execution_count": 105,
   "metadata": {},
   "outputs": [],
   "source": [
    "env = DynaMaze()\n",
    "agent = TabularDynaQ(env.action_space, 0.95, 0.1, 5, get_epsilon_greedy_policy())\n"
   ]
  },
  {
   "cell_type": "code",
   "execution_count": 106,
   "metadata": {},
   "outputs": [],
   "source": [
    "rewards = []\n",
    "time_steps = [0]\n",
    "\n",
    "\n",
    "for i in range(300):\n",
    "    reward, steps = play_env(env, agent)\n",
    "\n",
    "    rewards.append(reward)\n",
    "    time_steps.append(time_steps[-1] + steps)"
   ]
  },
  {
   "cell_type": "code",
   "execution_count": 107,
   "metadata": {},
   "outputs": [
    {
     "data": {
      "application/vnd.plotly.v1+json": {
       "config": {
        "plotlyServerURL": "https://plot.ly"
       },
       "data": [
        {
         "line": {
          "color": "red"
         },
         "name": "Time steps",
         "type": "scatter",
         "x": {
          "bdata": "AAAUAYYBLQJKA5UDxwMZBDUElAT0BEcFawWqBd8FOAZgBpgGxwb8Bh8HOQdUB3oHjAe2B80H5QcJCB4IQAhYCG8IigjICOcIAQkXCS8JQAlhCXsJkgmtCbwJzAnkCfsJCwocCjIKRQpXCmsKfwqtCsIK1AruCgILGAsqCzwLVAtmC4MLnAu5C8kL2wvtCwMMFwwqDDgMTgxgDHYMhAySDKIMsAzBDNUM6wz6DAgNHw0yDUMNUw1iDXINgg2UDaYNuw3MDd0N6w35DQgOHQ4sDj0OTQ5dDmsOfg6RDqEOsg7ADtQO5A71DgUPEw8lDzMPQQ9VD2MPcg+CD5IPoA+wD8QP1Q/mD/gPERAfEDEQPxBTEGEQbxB/EI0QmxCpELoQyhDYEOYQ9BACERQRIxEzEUERVBFnEXYRhhGYEaYRtBHCEdYR5hH3EQcSFxIlEjMSQxJREmUSdhKEEpISohKxEsMS0RLjEvQSBRMUEyUTMxNBE08TYBNwE34TjBOcE6wTuhPIE9YT5BP0EwIUERQhFDUUSRRXFGkUexSKFJkUqBS4FMYU1xTsFPoUDBUaFSsVORVKFVwVahV8FY8VohWwFcAV0BXgFfIVABYRFiEWNBZEFlQWZxZ5FocWlxalFrgWyBbdFu0W/RYLFxsXKxc7F0wXWhdoF3cXjhecF6oXuxfJF9cX5xf1FwsYGhgqGDgYRhhUGGMYcRiCGJAYoBiuGL0YzBjaGOwY/RgMGRoZKhk4GUoZXBlqGXgZhhmVGaMZsxnEGdUZ5BnyGQIaEBoeGiwaOxpJGlcaZRo=",
          "dtype": "i2"
         },
         "xaxis": "x",
         "y": {
          "bdata": "AAABAAIAAwAEAAUABgAHAAgACQAKAAsADAANAA4ADwAQABEAEgATABQAFQAWABcAGAAZABoAGwAcAB0AHgAfACAAIQAiACMAJAAlACYAJwAoACkAKgArACwALQAuAC8AMAAxADIAMwA0ADUANgA3ADgAOQA6ADsAPAA9AD4APwBAAEEAQgBDAEQARQBGAEcASABJAEoASwBMAE0ATgBPAFAAUQBSAFMAVABVAFYAVwBYAFkAWgBbAFwAXQBeAF8AYABhAGIAYwBkAGUAZgBnAGgAaQBqAGsAbABtAG4AbwBwAHEAcgBzAHQAdQB2AHcAeAB5AHoAewB8AH0AfgB/AIAAgQCCAIMAhACFAIYAhwCIAIkAigCLAIwAjQCOAI8AkACRAJIAkwCUAJUAlgCXAJgAmQCaAJsAnACdAJ4AnwCgAKEAogCjAKQApQCmAKcAqACpAKoAqwCsAK0ArgCvALAAsQCyALMAtAC1ALYAtwC4ALkAugC7ALwAvQC+AL8AwADBAMIAwwDEAMUAxgDHAMgAyQDKAMsAzADNAM4AzwDQANEA0gDTANQA1QDWANcA2ADZANoA2wDcAN0A3gDfAOAA4QDiAOMA5ADlAOYA5wDoAOkA6gDrAOwA7QDuAO8A8ADxAPIA8wD0APUA9gD3APgA+QD6APsA/AD9AP4A/wAAAQEBAgEDAQQBBQEGAQcBCAEJAQoBCwEMAQ0BDgEPARABEQESARMBFAEVARYBFwEYARkBGgEbARwBHQEeAR8BIAEhASIBIwEkASUBJgEnASgBKQEqASsBLAE=",
          "dtype": "i2"
         },
         "yaxis": "y"
        },
        {
         "line": {
          "color": "green"
         },
         "name": "Mean Reward",
         "type": "scatter",
         "x": {
          "bdata": "AAABAAIAAwAEAAUABgAHAAgACQAKAAsADAANAA4ADwAQABEAEgATABQAFQAWABcAGAAZABoAGwAcAB0AHgAfACAAIQAiACMAJAAlACYAJwAoACkAKgArACwALQAuAC8AMAAxADIAMwA0ADUANgA3ADgAOQA6ADsAPAA9AD4APwBAAEEAQgBDAEQARQBGAEcASABJAEoASwBMAE0ATgBPAFAAUQBSAFMAVABVAFYAVwBYAFkAWgBbAFwAXQBeAF8AYABhAGIAYwBkAGUAZgBnAGgAaQBqAGsAbABtAG4AbwBwAHEAcgBzAHQAdQB2AHcAeAB5AHoAewB8AH0AfgB/AIAAgQCCAIMAhACFAIYAhwCIAIkAigCLAIwAjQCOAI8AkACRAJIAkwCUAJUAlgCXAJgAmQCaAJsAnACdAJ4AnwCgAKEAogCjAKQApQCmAKcAqACpAKoAqwCsAK0ArgCvALAAsQCyALMAtAC1ALYAtwC4ALkAugC7ALwAvQC+AL8AwADBAMIAwwDEAMUAxgDHAMgAyQDKAMsAzADNAM4AzwDQANEA0gDTANQA1QDWANcA2ADZANoA2wDcAN0A3gDfAOAA4QDiAOMA5ADlAOYA5wDoAOkA6gDrAOwA7QDuAO8A8ADxAPIA8wD0APUA9gD3APgA+QD6APsA/AD9AP4A/wAAAQEBAgEDAQQBBQEGAQcBCAEJAQoBCwEMAQ0BDgEPARABEQESARMBFAEVARYBFwEYARkBGgEbARwBHQEeAR8BIAEhAQ==",
          "dtype": "i2"
         },
         "xaxis": "x2",
         "y": {
          "bdata": "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",
          "dtype": "f8"
         },
         "yaxis": "y2"
        }
       ],
       "layout": {
        "annotations": [
         {
          "font": {
           "size": 16
          },
          "showarrow": false,
          "text": "W",
          "x": 0.225,
          "xanchor": "center",
          "xref": "paper",
          "y": 1,
          "yanchor": "bottom",
          "yref": "paper"
         },
         {
          "font": {
           "size": 16
          },
          "showarrow": false,
          "text": "i",
          "x": 0.775,
          "xanchor": "center",
          "xref": "paper",
          "y": 1,
          "yanchor": "bottom",
          "yref": "paper"
         }
        ],
        "legend": {
         "title": {
          "text": "Parameters"
         }
        },
        "template": {
         "data": {
          "bar": [
           {
            "error_x": {
             "color": "#2a3f5f"
            },
            "error_y": {
             "color": "#2a3f5f"
            },
            "marker": {
             "line": {
              "color": "#E5ECF6",
              "width": 0.5
             },
             "pattern": {
              "fillmode": "overlay",
              "size": 10,
              "solidity": 0.2
             }
            },
            "type": "bar"
           }
          ],
          "barpolar": [
           {
            "marker": {
             "line": {
              "color": "#E5ECF6",
              "width": 0.5
             },
             "pattern": {
              "fillmode": "overlay",
              "size": 10,
              "solidity": 0.2
             }
            },
            "type": "barpolar"
           }
          ],
          "carpet": [
           {
            "aaxis": {
             "endlinecolor": "#2a3f5f",
             "gridcolor": "white",
             "linecolor": "white",
             "minorgridcolor": "white",
             "startlinecolor": "#2a3f5f"
            },
            "baxis": {
             "endlinecolor": "#2a3f5f",
             "gridcolor": "white",
             "linecolor": "white",
             "minorgridcolor": "white",
             "startlinecolor": "#2a3f5f"
            },
            "type": "carpet"
           }
          ],
          "choropleth": [
           {
            "colorbar": {
             "outlinewidth": 0,
             "ticks": ""
            },
            "type": "choropleth"
           }
          ],
          "contour": [
           {
            "colorbar": {
             "outlinewidth": 0,
             "ticks": ""
            },
            "colorscale": [
             [
              0,
              "#0d0887"
             ],
             [
              0.1111111111111111,
              "#46039f"
             ],
             [
              0.2222222222222222,
              "#7201a8"
             ],
             [
              0.3333333333333333,
              "#9c179e"
             ],
             [
              0.4444444444444444,
              "#bd3786"
             ],
             [
              0.5555555555555556,
              "#d8576b"
             ],
             [
              0.6666666666666666,
              "#ed7953"
             ],
             [
              0.7777777777777778,
              "#fb9f3a"
             ],
             [
              0.8888888888888888,
              "#fdca26"
             ],
             [
              1,
              "#f0f921"
             ]
            ],
            "type": "contour"
           }
          ],
          "contourcarpet": [
           {
            "colorbar": {
             "outlinewidth": 0,
             "ticks": ""
            },
            "type": "contourcarpet"
           }
          ],
          "heatmap": [
           {
            "colorbar": {
             "outlinewidth": 0,
             "ticks": ""
            },
            "colorscale": [
             [
              0,
              "#0d0887"
             ],
             [
              0.1111111111111111,
              "#46039f"
             ],
             [
              0.2222222222222222,
              "#7201a8"
             ],
             [
              0.3333333333333333,
              "#9c179e"
             ],
             [
              0.4444444444444444,
              "#bd3786"
             ],
             [
              0.5555555555555556,
              "#d8576b"
             ],
             [
              0.6666666666666666,
              "#ed7953"
             ],
             [
              0.7777777777777778,
              "#fb9f3a"
             ],
             [
              0.8888888888888888,
              "#fdca26"
             ],
             [
              1,
              "#f0f921"
             ]
            ],
            "type": "heatmap"
           }
          ],
          "histogram": [
           {
            "marker": {
             "pattern": {
              "fillmode": "overlay",
              "size": 10,
              "solidity": 0.2
             }
            },
            "type": "histogram"
           }
          ],
          "histogram2d": [
           {
            "colorbar": {
             "outlinewidth": 0,
             "ticks": ""
            },
            "colorscale": [
             [
              0,
              "#0d0887"
             ],
             [
              0.1111111111111111,
              "#46039f"
             ],
             [
              0.2222222222222222,
              "#7201a8"
             ],
             [
              0.3333333333333333,
              "#9c179e"
             ],
             [
              0.4444444444444444,
              "#bd3786"
             ],
             [
              0.5555555555555556,
              "#d8576b"
             ],
             [
              0.6666666666666666,
              "#ed7953"
             ],
             [
              0.7777777777777778,
              "#fb9f3a"
             ],
             [
              0.8888888888888888,
              "#fdca26"
             ],
             [
              1,
              "#f0f921"
             ]
            ],
            "type": "histogram2d"
           }
          ],
          "histogram2dcontour": [
           {
            "colorbar": {
             "outlinewidth": 0,
             "ticks": ""
            },
            "colorscale": [
             [
              0,
              "#0d0887"
             ],
             [
              0.1111111111111111,
              "#46039f"
             ],
             [
              0.2222222222222222,
              "#7201a8"
             ],
             [
              0.3333333333333333,
              "#9c179e"
             ],
             [
              0.4444444444444444,
              "#bd3786"
             ],
             [
              0.5555555555555556,
              "#d8576b"
             ],
             [
              0.6666666666666666,
              "#ed7953"
             ],
             [
              0.7777777777777778,
              "#fb9f3a"
             ],
             [
              0.8888888888888888,
              "#fdca26"
             ],
             [
              1,
              "#f0f921"
             ]
            ],
            "type": "histogram2dcontour"
           }
          ],
          "mesh3d": [
           {
            "colorbar": {
             "outlinewidth": 0,
             "ticks": ""
            },
            "type": "mesh3d"
           }
          ],
          "parcoords": [
           {
            "line": {
             "colorbar": {
              "outlinewidth": 0,
              "ticks": ""
             }
            },
            "type": "parcoords"
           }
          ],
          "pie": [
           {
            "automargin": true,
            "type": "pie"
           }
          ],
          "scatter": [
           {
            "fillpattern": {
             "fillmode": "overlay",
             "size": 10,
             "solidity": 0.2
            },
            "type": "scatter"
           }
          ],
          "scatter3d": [
           {
            "line": {
             "colorbar": {
              "outlinewidth": 0,
              "ticks": ""
             }
            },
            "marker": {
             "colorbar": {
              "outlinewidth": 0,
              "ticks": ""
             }
            },
            "type": "scatter3d"
           }
          ],
          "scattercarpet": [
           {
            "marker": {
             "colorbar": {
              "outlinewidth": 0,
              "ticks": ""
             }
            },
            "type": "scattercarpet"
           }
          ],
          "scattergeo": [
           {
            "marker": {
             "colorbar": {
              "outlinewidth": 0,
              "ticks": ""
             }
            },
            "type": "scattergeo"
           }
          ],
          "scattergl": [
           {
            "marker": {
             "colorbar": {
              "outlinewidth": 0,
              "ticks": ""
             }
            },
            "type": "scattergl"
           }
          ],
          "scattermap": [
           {
            "marker": {
             "colorbar": {
              "outlinewidth": 0,
              "ticks": ""
             }
            },
            "type": "scattermap"
           }
          ],
          "scattermapbox": [
           {
            "marker": {
             "colorbar": {
              "outlinewidth": 0,
              "ticks": ""
             }
            },
            "type": "scattermapbox"
           }
          ],
          "scatterpolar": [
           {
            "marker": {
             "colorbar": {
              "outlinewidth": 0,
              "ticks": ""
             }
            },
            "type": "scatterpolar"
           }
          ],
          "scatterpolargl": [
           {
            "marker": {
             "colorbar": {
              "outlinewidth": 0,
              "ticks": ""
             }
            },
            "type": "scatterpolargl"
           }
          ],
          "scatterternary": [
           {
            "marker": {
             "colorbar": {
              "outlinewidth": 0,
              "ticks": ""
             }
            },
            "type": "scatterternary"
           }
          ],
          "surface": [
           {
            "colorbar": {
             "outlinewidth": 0,
             "ticks": ""
            },
            "colorscale": [
             [
              0,
              "#0d0887"
             ],
             [
              0.1111111111111111,
              "#46039f"
             ],
             [
              0.2222222222222222,
              "#7201a8"
             ],
             [
              0.3333333333333333,
              "#9c179e"
             ],
             [
              0.4444444444444444,
              "#bd3786"
             ],
             [
              0.5555555555555556,
              "#d8576b"
             ],
             [
              0.6666666666666666,
              "#ed7953"
             ],
             [
              0.7777777777777778,
              "#fb9f3a"
             ],
             [
              0.8888888888888888,
              "#fdca26"
             ],
             [
              1,
              "#f0f921"
             ]
            ],
            "type": "surface"
           }
          ],
          "table": [
           {
            "cells": {
             "fill": {
              "color": "#EBF0F8"
             },
             "line": {
              "color": "white"
             }
            },
            "header": {
             "fill": {
              "color": "#C8D4E3"
             },
             "line": {
              "color": "white"
             }
            },
            "type": "table"
           }
          ]
         },
         "layout": {
          "annotationdefaults": {
           "arrowcolor": "#2a3f5f",
           "arrowhead": 0,
           "arrowwidth": 1
          },
          "autotypenumbers": "strict",
          "coloraxis": {
           "colorbar": {
            "outlinewidth": 0,
            "ticks": ""
           }
          },
          "colorscale": {
           "diverging": [
            [
             0,
             "#8e0152"
            ],
            [
             0.1,
             "#c51b7d"
            ],
            [
             0.2,
             "#de77ae"
            ],
            [
             0.3,
             "#f1b6da"
            ],
            [
             0.4,
             "#fde0ef"
            ],
            [
             0.5,
             "#f7f7f7"
            ],
            [
             0.6,
             "#e6f5d0"
            ],
            [
             0.7,
             "#b8e186"
            ],
            [
             0.8,
             "#7fbc41"
            ],
            [
             0.9,
             "#4d9221"
            ],
            [
             1,
             "#276419"
            ]
           ],
           "sequential": [
            [
             0,
             "#0d0887"
            ],
            [
             0.1111111111111111,
             "#46039f"
            ],
            [
             0.2222222222222222,
             "#7201a8"
            ],
            [
             0.3333333333333333,
             "#9c179e"
            ],
            [
             0.4444444444444444,
             "#bd3786"
            ],
            [
             0.5555555555555556,
             "#d8576b"
            ],
            [
             0.6666666666666666,
             "#ed7953"
            ],
            [
             0.7777777777777778,
             "#fb9f3a"
            ],
            [
             0.8888888888888888,
             "#fdca26"
            ],
            [
             1,
             "#f0f921"
            ]
           ],
           "sequentialminus": [
            [
             0,
             "#0d0887"
            ],
            [
             0.1111111111111111,
             "#46039f"
            ],
            [
             0.2222222222222222,
             "#7201a8"
            ],
            [
             0.3333333333333333,
             "#9c179e"
            ],
            [
             0.4444444444444444,
             "#bd3786"
            ],
            [
             0.5555555555555556,
             "#d8576b"
            ],
            [
             0.6666666666666666,
             "#ed7953"
            ],
            [
             0.7777777777777778,
             "#fb9f3a"
            ],
            [
             0.8888888888888888,
             "#fdca26"
            ],
            [
             1,
             "#f0f921"
            ]
           ]
          },
          "colorway": [
           "#636efa",
           "#EF553B",
           "#00cc96",
           "#ab63fa",
           "#FFA15A",
           "#19d3f3",
           "#FF6692",
           "#B6E880",
           "#FF97FF",
           "#FECB52"
          ],
          "font": {
           "color": "#2a3f5f"
          },
          "geo": {
           "bgcolor": "white",
           "lakecolor": "white",
           "landcolor": "#E5ECF6",
           "showlakes": true,
           "showland": true,
           "subunitcolor": "white"
          },
          "hoverlabel": {
           "align": "left"
          },
          "hovermode": "closest",
          "mapbox": {
           "style": "light"
          },
          "paper_bgcolor": "white",
          "plot_bgcolor": "#E5ECF6",
          "polar": {
           "angularaxis": {
            "gridcolor": "white",
            "linecolor": "white",
            "ticks": ""
           },
           "bgcolor": "#E5ECF6",
           "radialaxis": {
            "gridcolor": "white",
            "linecolor": "white",
            "ticks": ""
           }
          },
          "scene": {
           "xaxis": {
            "backgroundcolor": "#E5ECF6",
            "gridcolor": "white",
            "gridwidth": 2,
            "linecolor": "white",
            "showbackground": true,
            "ticks": "",
            "zerolinecolor": "white"
           },
           "yaxis": {
            "backgroundcolor": "#E5ECF6",
            "gridcolor": "white",
            "gridwidth": 2,
            "linecolor": "white",
            "showbackground": true,
            "ticks": "",
            "zerolinecolor": "white"
           },
           "zaxis": {
            "backgroundcolor": "#E5ECF6",
            "gridcolor": "white",
            "gridwidth": 2,
            "linecolor": "white",
            "showbackground": true,
            "ticks": "",
            "zerolinecolor": "white"
           }
          },
          "shapedefaults": {
           "line": {
            "color": "#2a3f5f"
           }
          },
          "ternary": {
           "aaxis": {
            "gridcolor": "white",
            "linecolor": "white",
            "ticks": ""
           },
           "baxis": {
            "gridcolor": "white",
            "linecolor": "white",
            "ticks": ""
           },
           "bgcolor": "#E5ECF6",
           "caxis": {
            "gridcolor": "white",
            "linecolor": "white",
            "ticks": ""
           }
          },
          "title": {
           "x": 0.05
          },
          "xaxis": {
           "automargin": true,
           "gridcolor": "white",
           "linecolor": "white",
           "ticks": "",
           "title": {
            "standoff": 15
           },
           "zerolinecolor": "white",
           "zerolinewidth": 2
          },
          "yaxis": {
           "automargin": true,
           "gridcolor": "white",
           "linecolor": "white",
           "ticks": "",
           "title": {
            "standoff": 15
           },
           "zerolinecolor": "white",
           "zerolinewidth": 2
          }
         }
        },
        "title": {
         "text": "test"
        },
        "xaxis": {
         "anchor": "y",
         "domain": [
          0,
          0.45
         ]
        },
        "xaxis2": {
         "anchor": "y2",
         "domain": [
          0.55,
          1
         ]
        },
        "yaxis": {
         "anchor": "x",
         "domain": [
          0,
          1
         ]
        },
        "yaxis2": {
         "anchor": "x2",
         "domain": [
          0,
          1
         ]
        }
       }
      }
     },
     "metadata": {},
     "output_type": "display_data"
    }
   ],
   "source": [
    "import plotly.graph_objects as go\n",
    "from plotly.subplots import make_subplots\n",
    "\n",
    "fig = make_subplots(rows=1, cols=2, subplot_titles=\"Windy Gridworld\")\n",
    "\n",
    "x = np.array(time_steps)\n",
    "y = np.arange(len(time_steps))\n",
    "fig.add_trace(\n",
    "    go.Scatter(\n",
    "        x=x,\n",
    "        y=y,\n",
    "        line_color=\"red\",\n",
    "        name=\"Time steps\",\n",
    "    ),\n",
    "    row=1,\n",
    "    col=1,\n",
    ")\n",
    "\n",
    "y = np.array(np.convolve(rewards, np.ones(5)/5, mode='valid'))\n",
    "x = np.arange(len(rewards[5:-5]))\n",
    "\n",
    "fig.add_trace(\n",
    "    go.Scatter(\n",
    "        x=x,\n",
    "        y=y,\n",
    "        line_color=\"green\",\n",
    "        name=\"Mean Reward\",\n",
    "    ),\n",
    "    row=1,\n",
    "    col=2,\n",
    ")\n",
    "\n",
    "fig.update_layout(\n",
    "    title=\"test\",\n",
    "    legend_title=\"Parameters\",\n",
    ")\n",
    "\n",
    "fig.show()"
   ]
  }
 ],
 "metadata": {
  "kernelspec": {
   "display_name": ".venv",
   "language": "python",
   "name": "python3"
  },
  "language_info": {
   "codemirror_mode": {
    "name": "ipython",
    "version": 3
   },
   "file_extension": ".py",
   "mimetype": "text/x-python",
   "name": "python",
   "nbconvert_exporter": "python",
   "pygments_lexer": "ipython3",
   "version": "3.11.2"
  }
 },
 "nbformat": 4,
 "nbformat_minor": 4
}

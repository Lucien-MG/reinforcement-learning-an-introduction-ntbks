{
 "cells": [
  {
   "cell_type": "markdown",
   "metadata": {},
   "source": [
    "# Multi-armed Bandits: Exercises\n",
    "\n",
    "### Exercise 2.1: **E-greedy action selection**\n",
    "\n",
    "**Question: In \"E-greedy action selection, for the case of two actions and $\\epsilon = 0.5$,  \n",
    "what is the probability that the greedy action is selected?**\n",
    "\n",
    "> We have 1 over 2 chance to select a random action, and in that case we have  \n",
    "  1 over 2 chance to select the greedy action since there is two actions.  \n",
    "  Plus, we have 1 over 2 chance to be sur to take the greedy action.  \n",
    "  This give us:  \n",
    "  $p(a = \\text{greedy action}) = {1 \\over 2} * {1 \\over 2} + {1 \\over 2} * 1$  \n",
    "  $p(a = \\text{greedy action}) = {3 \\over 4}$"
   ]
  }
 ],
 "metadata": {
  "language_info": {
   "name": "python"
  }
 },
 "nbformat": 4,
 "nbformat_minor": 2
}

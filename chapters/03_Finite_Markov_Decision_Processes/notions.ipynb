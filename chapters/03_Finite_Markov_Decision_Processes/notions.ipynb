{
 "cells": [
  {
   "cell_type": "markdown",
   "metadata": {},
   "source": [
    "# Finite Markov Decision Processes\n",
    "\n",
    "Markov Decision Processes (MDPs) are a classical formalization of sequential decision making,\n",
    "where actions influence not just immediate rewards, but also subsequent situations, or\n",
    "states, and through those future rewards. Thus MDPs involve delayed reward and the\n",
    "need to tradeo↵ immediate and delayed reward. Whereas in bandit problems we estimated\n",
    "the value q⇤ (a) of each action a, in MDPs we estimate the value q⇤ (s, a) of each action a\n",
    "in each state s, or we estimate the value v⇤ (s) of each state given optimal action selections.\n",
    "These state-dependent quantities are essential to accurately assigning credit for long-term\n",
    "consequences to individual action selections.\n",
    "\n",
    "MDPs are a mathematically idealized form of the reinforcement learning problem\n",
    "for which precise theoretical statements can be made. We introduce key elements of\n",
    "the problem’s mathematical structure, such as returns, value functions, and Bellman\n",
    "equations."
   ]
  }
 ],
 "metadata": {
  "kernelspec": {
   "display_name": ".venv",
   "language": "python",
   "name": "python3"
  },
  "language_info": {
   "codemirror_mode": {
    "name": "ipython",
    "version": 3
   },
   "file_extension": ".py",
   "mimetype": "text/x-python",
   "name": "python",
   "nbconvert_exporter": "python",
   "pygments_lexer": "ipython3",
   "version": "3.11.2"
  }
 },
 "nbformat": 4,
 "nbformat_minor": 2
}

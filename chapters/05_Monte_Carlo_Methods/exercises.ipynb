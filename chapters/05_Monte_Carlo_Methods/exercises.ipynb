{
 "cells": [
  {
   "cell_type": "markdown",
   "metadata": {},
   "source": [
    "# Monte Carlo: Exercises\n",
    "\n",
    "### Exercise 5.1: **E-greedy action selection**\n",
    "\n",
    "**Question: Consider the diagrams on the right in Figure 5.1. Why does the estimated  \n",
    "value function jump up for the last two rows in the rear? Why does it drop off for the  \n",
    "whole last row on the left? Why are the frontmost values higher in the upper diagrams  \n",
    "than in the lower ?**\n",
    "\n",
    "> The firgure 5.1 is the plot of the value function for a policy where we stick at 20 and 21,  \n",
    "  if we are in those states, the prbability to win is high, then the expected reward is probably 1."
   ]
  }
 ],
 "metadata": {
  "language_info": {
   "name": "python"
  }
 },
 "nbformat": 4,
 "nbformat_minor": 2
}
